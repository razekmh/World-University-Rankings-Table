{
 "cells": [
  {
   "cell_type": "markdown",
   "metadata": {},
   "source": [
    "# World University Rankings Data\n",
    "\n",
    "This notebook will lead you through a simple code to extract the data of university ranking from https://www.timeshighereducation.com/\n",
    "________________________________________________________________________________________________________________"
   ]
  },
  {
   "cell_type": "markdown",
   "metadata": {},
   "source": [
    "## Aim\n",
    "This code tries to extract information from a university ranking website. The concept of collecting data from websites is called web scraping and is used mainly to collect data from websites which do not offer an API to collect data natively. \n",
    "Several tutorials are available to explain the web scraping basics. This notebook is more of a case study. <br />\n",
    "Let's start ......  "
   ]
  },
  {
   "cell_type": "markdown",
   "metadata": {},
   "source": [
    "## 1. Prerequisites\n",
    "This code assumes that you have python installed on your machine.  Basic knowledge of python is also assumed. Here is a full list of the prerequisites: \n",
    "* python 3.6 or above\n",
    "* Jupyter notebook - or any environment that allows running python\n",
    "* The following python libraries (BeautifulSoup, Selenium, urllib, objectpath and Pandas) \n",
    "* A web browser, I am using chrome 77 here, but you can use other browsers too\n",
    "* Web driver for the browsers you are using, for chrome and chrome based browsers you can download it from here https://chromedriver.chromium.org/downloads"
   ]
  },
  {
   "cell_type": "markdown",
   "metadata": {},
   "source": [
    "## 2. What data are you trying to get? \n",
    "This is the first question you should ask yourself, before even touching a single key. In our case, we started with the idea of collecting the list of universities with their ranking. To understand how to do so you will need to visit the website itself to understand a bit about it and its webpages. <br/>\n",
    "\n",
    "The page we are tyring to scrap looked something like this \n",
    "\n",
    "![title](img/basic_page_01.PNG)\n",
    "<br/> <br/> <br/> \n"
   ]
  },
  {
   "attachments": {},
   "cell_type": "markdown",
   "metadata": {},
   "source": [
    "It is clear that the page contains some sort of a table that hosts the information we are trying to collect. However collecting the information will depend on the HTML code hidden behind what we can see in the browser window. In chrome to display the HTML code simply press F12. The page should look something like this  \n",
    "\n",
    "![title](img/page_code_02.PNG)\n",
    "<br/> <br/> <br/> \n"
   ]
  },
  {
   "cell_type": "markdown",
   "metadata": {},
   "source": [
    "Using the small inspection cursor you can point at elements of the page and find out which part of the HTML represent them. This important because we will only use the HTML to collect the data and not the displayed page in the browser. Once you have identified the part of HTML corresponds with the information we need then we will start scraping "
   ]
  },
  {
   "cell_type": "markdown",
   "metadata": {},
   "source": [
    "## 3. Let's write some python "
   ]
  },
  {
   "cell_type": "markdown",
   "metadata": {},
   "source": [
    "A standard method of using python to request internet pages is through the requests library, however in our particular case this approach will not work, because the website uses AJAX to modify the HTML of the page. This means that the HTML code which you will receive by using requests will only contain an empty template of the table and not the information we are trying to collect. To give the JS code a chance to run and populate the table with the information, we use selenium. Selenium uses browsers to request webpages and then collect the HTML after the page is fully loaded, which will allow us to collect the information we need. "
   ]
  },
  {
   "cell_type": "code",
   "execution_count": 1,
   "metadata": {},
   "outputs": [],
   "source": [
    "# import standard libraries\n",
    "import json\n",
    "import time\n",
    "\n",
    "# import third party libraries\n",
    "import objectpath\n",
    "import pandas as pd\n",
    "\n",
    "from bs4 import BeautifulSoup as soup\n",
    "from urllib.request import urlopen \n",
    "from selenium import webdriver"
   ]
  },
  {
   "cell_type": "markdown",
   "metadata": {},
   "source": [
    "Selenium requires a webdriver to access the web browser. It can be installed or used from an executable file directly. In this example we will use the executable file directly, please edit the following code by adding the location of the webdriver. It is recommonded to place it with the code itself."
   ]
  },
  {
   "cell_type": "code",
   "execution_count": 2,
   "metadata": {},
   "outputs": [],
   "source": [
    "webdriver_location = '***please insert here webdriver location *** /chromedriver.exe'\n",
    "\n",
    "webdriver_location = 'C:/Users/razek/Desktop/git_pages/World-University-Rankings-Table/chromedriver.exe'\n",
    "# initiate webdriver\n",
    "driver = webdriver.Chrome(executable_path = webdriver_location)"
   ]
  },
  {
   "cell_type": "markdown",
   "metadata": {},
   "source": [
    "Defining which web address we are going to use for scrapping is essential for the workflow. A quick inspection of the target web address reveals that changing the length parameter from 25 to -1 will result in collecting all the available universities instead of 25 per page. This should enable us to collect the information we need in one go rather than requesting several web pages. \n",
    "Also checking the tabs available on the web page (ranking, scores) reveals more data to be collected. Therefore we will use two web adresses to collect the data, as follows: "
   ]
  },
  {
   "cell_type": "code",
   "execution_count": 3,
   "metadata": {},
   "outputs": [],
   "source": [
    "url_stats = 'https://www.timeshighereducation.com/world-university-rankings/2020/world-ranking#!/page/0/length/-1/sort_by/rank/sort_order/asc/cols/stats'\n",
    "url_scores = 'https://www.timeshighereducation.com/world-university-rankings/2020/world-ranking#!/page/0/length/-1/sort_by/rank/sort_order/asc/cols/scores'"
   ]
  },
  {
   "cell_type": "code",
   "execution_count": 4,
   "metadata": {},
   "outputs": [],
   "source": [
    "# create two webdriver objects, one for each of the two adresses \n",
    "stats_browser = webdriver.Chrome()\n",
    "scores_browser = webdriver.Chrome()"
   ]
  },
  {
   "cell_type": "markdown",
   "metadata": {},
   "source": [
    "In the follwoing two cells, we will follow the same procedures for each of the two pages as follows: \n",
    "* Request the webpage using the webdriver \n",
    "* Collect the HTML code of the webpage \n",
    "* Use BeautifulSoup to \"parse\" the HTML. This will enable us to collect spesific pices of code after\n",
    "* Use \"findAll\" method to collect the objects which we identified in the HTML code"
   ]
  },
  {
   "cell_type": "code",
   "execution_count": 5,
   "metadata": {},
   "outputs": [],
   "source": [
    "# use the webdriver to request the ranking webpage\n",
    "stats_browser.get(url_stats)\n",
    "\n",
    "# collect the webpage HTML after its loading\n",
    "stats_page_html = stats_browser.page_source\n",
    "\n",
    "# parse the HTML using BeautifulSoup\n",
    "stats_page_soup = soup(stats_page_html, 'html.parser')\n",
    "\n",
    "# collect HTML objects \n",
    "rank_obj = stats_page_soup.findAll(\"td\", {\"class\":\"rank sorting_1 sorting_2\"})\n",
    "names_obj = stats_page_soup.findAll(\"td\", {\"class\":\"name namesearch\"})\n",
    "stats_number_students_obj = stats_page_soup.findAll(\"td\", {\"class\":\"stats stats_number_students\"})\n",
    "stats_student_staff_ratio_obj = stats_page_soup.findAll(\"td\", {\"class\":\"stats stats_student_staff_ratio\"})\n",
    "stats_pc_intl_students_obj = stats_page_soup.findAll(\"td\", {\"class\":\"stats stats_pc_intl_students\"})\n",
    "stats_female_male_ratio_obj = stats_page_soup.findAll(\"td\", {\"class\":\"stats stats_female_male_ratio\"})\n",
    "\n",
    "# close the browser\n",
    "stats_browser.close() "
   ]
  },
  {
   "cell_type": "code",
   "execution_count": 6,
   "metadata": {},
   "outputs": [],
   "source": [
    "# use the webdriver to request the scores webpage\n",
    "scores_browser.get(url_scores)\n",
    "\n",
    "# collect the webpage HTML after its loading\n",
    "scores_page_html = scores_browser.page_source\n",
    "scores_page_soup = soup(scores_page_html, 'html.parser')\n",
    "\n",
    "# parse the HTML using BeautifulSoup\n",
    "overall_score_obj = scores_page_soup.findAll(\"td\", {\"class\":\"scores overall-score\"})\n",
    "teaching_score_obj = scores_page_soup.findAll(\"td\", {\"class\":\"scores teaching-score\"})\n",
    "research_score_obj = scores_page_soup.findAll(\"td\", {\"class\":\"scores research-score\"})\n",
    "citations_score_obj = scores_page_soup.findAll(\"td\", {\"class\":\"scores citations-score\"})\n",
    "industry_income_score_obj = scores_page_soup.findAll(\"td\", {\"class\":\"scores industry_income-score\"})\n",
    "international_outlook_score_obj = scores_page_soup.findAll(\"td\", {\"class\":\"scores international_outlook-score\"})\n",
    "\n",
    "# close the browser\n",
    "scores_browser.close() "
   ]
  },
  {
   "cell_type": "markdown",
   "metadata": {},
   "source": [
    "Once the HTML objects are collected, then we can start extracting the data from them. The data will be presented eventually in pandas dataframe, which can be presented as a table. Pandas dataframe can be constructed using lists of equal length. In the follwoing two cells we will extract/collect the data using two differnet methods"
   ]
  },
  {
   "cell_type": "markdown",
   "metadata": {},
   "source": [
    "#### Extracting data from HTML objects: "
   ]
  },
  {
   "cell_type": "code",
   "execution_count": 7,
   "metadata": {},
   "outputs": [],
   "source": [
    "rank, names, number_students, student_staff_ratio, intl_students, female_male_ratio, web_address =  [], [], [], [], [], [], []\n",
    "overall_score, teaching_score, research_score, citations_score, industry_income_score, international_outlook_score = [], [], [], [], [], []\n",
    "for i in range(len(names_obj)):\n",
    "    web_address.append('https://www.timeshighereducation.com' + names_obj[i].a.get('href'))\n",
    "    rank.append(rank_obj[i].text)\n",
    "    \n",
    "    names.append(names_obj[i].a.text)\n",
    "    number_students.append(stats_number_students_obj[i].text)\n",
    "    student_staff_ratio.append(stats_student_staff_ratio_obj[i].text)\n",
    "    intl_students.append(stats_pc_intl_students_obj[i].text)\n",
    "    female_male_ratio.append(stats_female_male_ratio_obj[i].text[:2])\n",
    "    \n",
    "    overall_score.append(overall_score_obj[i].text)\n",
    "    teaching_score.append(teaching_score_obj[i].text)\n",
    "    research_score.append(research_score_obj[i].text)\n",
    "    citations_score.append(citations_score_obj[i].text)\n",
    "    industry_income_score.append(industry_income_score_obj[i].text)\n",
    "    international_outlook_score.append(international_outlook_score_obj[i].text)"
   ]
  },
  {
   "cell_type": "code",
   "execution_count": null,
   "metadata": {
    "scrolled": true
   },
   "outputs": [
    {
     "name": "stdout",
     "output_type": "stream",
     "text": [
      "1 out of 1396 University Offices, Wellington Square, Oxford, Oxfordshire, OX1 2JD, United Kingdom\n",
      "2 out of 1396 1200 East California Boulevard, Pasadena, California, 91125, United States\n",
      "3 out of 1396 The Old Schools, Trinity Lane, Cambridge, Cambridgeshire, CB2 1TN, United Kingdom\n",
      "4 out of 1396 450 Serra Mall, Stanford, California, 94305–2004, United States\n",
      "5 out of 1396 77 Massachusetts Avenue, Cambridge, Massachusetts, 02139-4307, United States\n",
      "6 out of 1396 Princeton, New Jersey, 08544, United States\n",
      "7 out of 1396 Massachusetts Hall, Cambridge, Massachusetts, 02138, United States\n",
      "8 out of 1396 New Haven, Connecticut, 06520, United States\n",
      "9 out of 1396 Edward H. Levi Hall, 5801 South Ellis Avenue, Chicago, Illinois, 60637, United States\n",
      "10 out of 1396 South Kensington Road, Kensington, London, SW7 2AZ, United Kingdom\n",
      "11 out of 1396 3451 Walnut Street, Philadelphia, Philadelphia, Pennsylvania, 19104, United States\n",
      "12 out of 1396 Baltimore, Maryland, 21218, United States\n",
      "13 out of 1396 110 Sproul Hall, Berkeley, California, 94704, United States\n",
      "14 out of 1396 Rämistrasse 101, Zürich, 8092, Switzerland\n",
      "15 out of 1396 Gower Street, London, WC1E 6BT, United Kingdom\n",
      "16 out of 1396 116th and Broadway, New York, 10027, United States\n",
      "17 out of 1396 405 Hilgard Ave, Los Angeles, California, 90095, United States\n",
      "18 out of 1396 27 King's College Circle, Toronto, Ontario, M5S 1A1, Canada\n",
      "19 out of 1396 Day Hall Lobby, Ithaca, New York, 14853, United States\n",
      "20 out of 1396 Durham, North Carolina, 27708, United States\n",
      "21 out of 1396 500 S. State Street, Ann Arbor, Michigan, 48109, United States\n",
      "22 out of 1396 633 Clark Street, Evanston, Illinois, 60208, United States\n",
      "23 out of 1396 1 Qinqhuayuan, Beijing, 100084, China\n",
      "24 out of 1396 No.5 Yiheyuan Road, Haidian District, Beijing, 100871, China\n",
      "25 out of 1396 21 Lower Kent Ridge Road, 119077, Singapore\n",
      "26 out of 1396 1410 NE Campus Parkway, Seattle, Washington, 98195-5852, United States\n",
      "27 out of 1396 5000 Forbes Ave, Pittsburgh, Pennsylvania, 15213, United States\n",
      "28 out of 1396 Houghton Street, London, WC2A 2AE, United Kingdom\n",
      "29 out of 1396 70 Washington Square South, New York, 10012, United States\n",
      "30 out of 1396 Old College, South Bridge, Edinburgh, EH8 9YL, United Kingdom\n",
      "31 out of 1396 9500 Gilman Dr, La Jolla, California, 92093, United States\n",
      "32 out of 1396 Geschwister-Scholl-Platz 1, Munich, 80539, Germany\n",
      "33 out of 1396 Grattan Street, Parkville, Victoria, VIC 3010, Australia\n",
      "34 out of 1396 2329 West Mall, Vancouver, British Columbia, V6T 1Z4, Canada\n",
      "35 out of 1396 9/F, Knowles Building Pok Fu Lam Road, Pokfulam, Hong Kong Island, Hong Kong\n",
      "36 out of 1396 Strand, London, WC2R 2LS, United Kingdom\n",
      "37 out of 1396 7-3-1 Hongo, Bunkyo, Tokyo, 113-8654, Japan\n",
      "38 out of 1396 Route Cantonale, Lausanne, 1015, Switzerland\n",
      "39 out of 1396 North Avenue, Atlanta, Georgia, 30332, United States\n",
      "40 out of 1396 1 University Station, Austin, Texas, 78712, United States\n",
      "41 out of 1396 SE-171 77, Stockholm, Sweden\n",
      "42 out of 1396 845 Sherbrooke Street West, Montreal, Quebec, H3A 0G4, Canada\n",
      "43 out of 1396 Arcisstraße 21, Munich, D-80333, Germany\n",
      "44 out of 1396 Grabengasse 1, Heidelberg, Baden-Württemberg, 69117, Germany\n",
      "45 out of 1396 Oude Markt 13, Leuven, 3000, Belgium\n",
      "46 out of 1396 60 rue Mazarine, Paris, 75006, France\n",
      "47 out of 1396 Clear Water Bay, Kowloon, Hong Kong\n",
      "48 out of 1396 901 West Illinois Street, Urbana, Illinois, 61801, United States\n",
      "49 out of 1396 50 Nanyang Avenue, 639798, Singapore\n",
      "50 out of 1396 Acton, Australian Capital Territory, ACT 2601, Australia\n",
      "51 out of 1396 Union South, 1308 W. Dayton St, Madison, Wisconsin, 53715-1149, United States\n",
      "52 out of 1396 One Brookings Drive, St. Louis, Missouri, 63130, United States\n",
      "53 out of 1396 Providence, Rhode Island, 02912, United States\n",
      "54 out of 1396 174 Country Club Road, Chapel Hill, North Carolina, 27599, United States\n",
      "55 out of 1396 1 Shields Avenue, California, 95616, United States\n",
      "56 out of 1396 Oxford Road, Manchester, Lancashire, M13 9PL, United Kingdom\n",
      "57 out of 1396 Santa Barbara, 552 University Road, California, 93106, United States\n",
      "58 out of 1396 Shatin, New Territories, Hong Kong\n",
      "59 out of 1396 Droevendaalsesteeg 4, Building nr. 104, Wageningen, 6702 PB, Netherlands\n",
      "60 out of 1396 Level 1, The Box Factory K06, 1 - 3 Ross Street, Sydney, New South Wales, NSW 2006, Australia\n",
      "61 out of 1396 One Silber Way, Boston, Massachusetts, 02215, United States\n",
      "62 out of 1396 P.O. Box 19268, 1000 GG Amsterdam, Netherlands\n",
      "63 out of 1396 University of Southern Califor, Los Angeles, California, 90089, United States\n",
      "64 out of 1396 1 Gwanak-ro, Gwanak-gu, Seoul, 151-742, South Korea\n",
      "65 out of 1396 Yoshida-honmachi, Sakyo-ku, Kyoto, 606-8501, Japan\n",
      "66 out of 1396 Brisbane St Lucia, Brisbane, Queensland, QLD 4072, Australia\n",
      "67 out of 1396 Postbus 5, 2600 AA Delft, Netherlands\n",
      "68 out of 1396 PO Box 9500, Leiden, 2300, Netherlands\n",
      "69 out of 1396 Burgemeester Oudlaan 50, Rotterdam, 3062 PA, Netherlands\n",
      "70 out of 1396 281 W. Lane Ave, Columbus, Ohio, 43210, United States\n",
      "71 out of 1396 High St, Kensington, Sydney, New South Wales, NSW 2052, Australia\n",
      "72 out of 1396 1280 Main Street West, Hamilton, Ontario, L8S 4L8, Canada\n",
      "73 out of 1396 PO Box 72, 9700 AB Groningen, Netherlands\n",
      "74 out of 1396 Unter den Linden 6, D-10099 Berlin, Germany\n",
      "75 out of 1396 Ground Floor and Level 1, 211 Wellington Road, Mulgrave, Victoria, VIC 3170, Australia\n",
      "76 out of 1396 P.O Box 80125, TC Utrecht, 3508, Netherlands\n",
      "77 out of 1396 Gibbert Hall Road, Coventry, Warwickshire, CV4 7AL, United Kingdom\n",
      "78 out of 1396 201 Old Main, University Park, Pennsylvania, 16802, United States\n",
      "79 out of 1396 3 Morrill Hall, 100 Church St. S.E., Minneapolis, Minnesota, 55455, United States\n",
      "80 out of 1396 Charitéplatz 1, 10117 Berlin, Germany\n",
      "81 out of 1396 201 Dowman Drive, Atlanta, Georgia, 30322, United States\n",
      "82 out of 1396 No.96 JinZhai Road Baohe District, Hefei, Anhui, 230026, China\n",
      "83 out of 1396 21 Rue de l'Ecole-de-Medecine, Paris, 75006, France\n",
      "84 out of 1396 220 Trowbridge Rd, East Lansing, Michigan, 48824, United States\n",
      "85 out of 1396 2900, boul., Édouard-Montpetit, Montréal, Quebec, H3T 1J4, Canada\n",
      "86 out of 1396 Fahnenbergplatz, 79085 Freiburg, Germany\n",
      "87 out of 1396 Senate House, Tyndall Avenue, Bristol, Avon, BS8 1TH, United Kingdom\n",
      "88 out of 1396 610 Purdue Mall, West Lafayette, Indiana, 47907, United States\n",
      "89 out of 1396 25-2 Sungkyunkwan-Ro, Jongno-gu, Seoul, 561-758, South Korea\n",
      "90 out of 1396 Rämistrasse 71, CH-8006 Zürich, Switzerland\n",
      "91 out of 1396 College Park, MD 20742, Prince George's County, Maryland, 20742, United States\n",
      "92 out of 1396 Geschwister-Scholl-Platz, Tubingen, 72074, Germany\n",
      "93 out of 1396 Route de Saclay, Palaiseau, 91128, France\n",
      "94 out of 1396 Petersplatz 1, CH-4001 Basel, Switzerland\n",
      "95 out of 1396 Hanover, New Hampshire, 03755, United States\n",
      "96 out of 1396 Irvine, California, 92697, United States\n",
      "97 out of 1396 P.O. Box 3, (Fabianinkatu 33), 00014, Finland\n",
      "98 out of 1396 Box 117, 221 00 Lund, Sweden\n",
      "99 out of 1396 East Quadrangle, Glasgow, Lanarkshire, G12 8QQ, United Kingdom\n",
      "100 out of 1396 Templergraben 55, 52056 Aachen, Germany\n",
      "101 out of 1396 Nørregade 10 Postboks 2177, 1017 København K, Denmark\n",
      "102 out of 1396 37th and O Streets, North West, District of Columbia, 20057, United States\n",
      "103 out of 1396 P.O. Box 256, SE-751 05, Uppsala, Sweden\n",
      "104 out of 1396 Tucson, Arizona, AZ 85721, United States\n",
      "105 out of 1396 Regina Pacis Weg 3, D-53012 Bonn, Germany\n",
      "106 out of 1396 6100 Main Street, Houston, Texas, 77005-1827, United States\n",
      "107 out of 1396 400 Ray C. Hunt Drive, P.O. Box 400229, Charlottesville, Virginia, 22904-4229, United States\n",
      "108 out of 1396 866 Yuhangtang Road Hangzhou, Zhejiang Province, Zhejiang, 310058, China\n",
      "109 out of 1396 220 Handan Road, Shanghai, 200433, China\n",
      "110 out of 1396 291 Daehak-ro, Daejeon, 34141, South Korea\n",
      "111 out of 1396 Mile End Road, London, E1 4NS, United Kingdom\n",
      "112 out of 1396 Chancellors Court, Edgbaston, Birmingham, West Midlands, B15 2TT, United Kingdom\n",
      "113 out of 1396 Hochschulstrasse 4, CH-3012 Bern, Switzerland\n",
      "114 out of 1396 4200 Fifth Avenue, Pittsburgh, Pennsylvania, 15260, United States\n",
      "115 out of 1396 Nordre Ringgade 1 8000 Aarhus C, DK - Denmark, Denmark\n",
      "116 out of 1396 Nashville, Tennessee, 37240, United States\n",
      "117 out of 1396 Kaiserswerther Str. 16-18, 14195 Berlin, Germany\n"
     ]
    },
    {
     "name": "stdout",
     "output_type": "stream",
     "text": [
      "118 out of 1396 Western Bank, Sheffield, South Yorkshire, S10 2TN, United Kingdom\n",
      "119 out of 1396 10900 Euclid Ave, Cleveland, Ohio, 44106, United States\n",
      "120 out of 1396 North Terrace, Adelaide, South Australia, SA 5005, Australia\n",
      "121 out of 1396 No. 1, Sec 4, Roosevelt Road, Taipei, 10617, Taiwan\n",
      "122 out of 1396 University Road, Southampton, Hampshire, SO17 1BJ, United Kingdom\n",
      "123 out of 1396 Sint-Pietersnieuwstraat, B - 9000 Ghent, Belgium\n",
      "124 out of 1396 Boulder, Colorado, CO 80309, United States\n",
      "125 out of 1396 Wilhelmsplatz, 37073 Göttingen, Germany\n",
      "126 out of 1396 Tat Chee Avenue, Kowloon, Hong Kong\n",
      "127 out of 1396 Postbus 616, Maastricht, 6200 MD, Netherlands\n",
      "128 out of 1396 Comeniuslaan 4, 6525 HP Nijmegen, Netherlands\n",
      "129 out of 1396 Heslington, York, Yorkshire, YO10 5DD, United Kingdom\n",
      "130 out of 1396 85 boulevard Saint-Germain, cedex 06, Paris, Ile-de-France, 75006, France\n",
      "131 out of 1396 P.O. Box 1072 Blindern, 0316 Oslo, Norway\n",
      "132 out of 1396 35 Stirling Highway, Crawley, Perth, Western Australia, WA 6009, Australia\n",
      "133 out of 1396 Stockton Road, Durham, County Durham, DH1 3LE, United Kingdom\n",
      "134 out of 1396 IU Bloomington, 107 S. Indiana Ave, Bloomington, Indiana, 47405-7000, United States\n",
      "135 out of 1396 Dr Karl Lueger Ring 1, 1010 Vienna, Austria\n",
      "136 out of 1396 Edmonton, Alberta, T6G 2R3, Canada\n",
      "137 out of 1396 Private Bag X3, Rondebosch, Cape Town, 7701, South Africa\n",
      "138 out of 1396 De Boelelaan 1105, Amsterdam, 1081 HV, Netherlands\n",
      "139 out of 1396 Bailrigg, Lancaster, Lancashire, LA1 4YW, United Kingdom\n",
      "140 out of 1396 419 Boston Avenue, Dowling Hall Garage, Medford, Massachusetts, 02155-5555, United States\n",
      "141 out of 1396 75 Laurier Avenue East, Ottawa, Ontario, K1N 6N5, Canada\n",
      "142 out of 1396 Helmholtzstraße 16, Ulm, 89081, Germany\n",
      "143 out of 1396 Placa de la Merce 10-12, Barcelona, 08002, Spain\n",
      "144 out of 1396 24 rue du Général-Dufour, CH - 1211 Genève 4, Switzerland\n",
      "145 out of 1396 22 Hankou Road, Nanjing, Jiangsu, 210093, China\n",
      "146 out of 1396 Stocker Road, Exeter, Devon, EX4 4PY, United Kingdom\n",
      "147 out of 1396 77 Cheongam-Ro Nam-Gu, Pohang, Gyeongbuk, 790-784, South Korea\n",
      "148 out of 1396 Sussex House, Brighton, East Sussex, BN1 9RH, United Kingdom\n",
      "149 out of 1396 Mittelweg 177, 20148 Hamburg, Germany\n",
      "150 out of 1396 Piazza Martiri della Libertà,, Pisa, 56127, Italy\n",
      "151 out of 1396 Straße des 17. Juni 135, D-10623 Berlin, Germany\n",
      "152 out of 1396 1 Place de l'Université, Louvain-la-Neuve, B-1348, Belgium\n",
      "153 out of 1396 University Park, Nottingham, Nottinghamshire, NG7 2RD, United Kingdom\n",
      "154 out of 1396 Piazza dei Cavalieri, 7, Pisa, 56126, Italy\n",
      "155 out of 1396 Tempe, Arizona, 85287, United States\n",
      "156 out of 1396 171-173 Woodhouse Lane, Leeds, West Yorkshire, LS2 9JT, United Kingdom\n",
      "157 out of 1396 Placa Civica, Campus de la UAB, Barcelona, 08193, Spain\n",
      "158 out of 1396 Albertus-Magnus-Platz 50923, Köln, Germany\n",
      "159 out of 1396 Schloss, 68131 Mannheim, Germany\n",
      "160 out of 1396 Notre Dame, Indiana, 46556, United States\n",
      "161 out of 1396 800 Dongchuan RD Minhang District, Shanghai, Shanghai, China\n",
      "162 out of 1396 D-01062 Dresden, Germany\n",
      "163 out of 1396 Sanderring 2, Würzburg, 97070, Germany\n",
      "164 out of 1396 College Green, Dublin 2, Ireland\n",
      "165 out of 1396 Foundation Building, Brownlow Hill, Liverpool, Merseyside, L69 7ZX, United Kingdom\n",
      "166 out of 1396 Postfach 10 01 31, D-33501 Bielefeld, Germany\n",
      "167 out of 1396 University Road, Leicester, Leicestershire, LE1 7RH, United Kingdom\n",
      "168 out of 1396 King's College, Aberdeen, Aberdeenshire, AB24 3FX, United Kingdom\n",
      "169 out of 1396 Via Zamboni 33, Bologna, 40126, Italy\n",
      "170 out of 1396 83 Somerset Street, New Brunswick, New Jersey, 08901-1281, United States\n",
      "171 out of 1396 11 Yuk Choi Road, Hung Hom, Kowloon, Hong Kong\n",
      "172 out of 1396 1720 2nd Ave South, Birmingham, Alabama, 35294, United States\n",
      "173 out of 1396 360 Huntington Ave, Boston, Massachusetts, 02115, United States\n",
      "174 out of 1396 Rochester, New York, 14627, United States\n",
      "175 out of 1396 Gainesville, Florida, 32611, United States\n",
      "176 out of 1396 Kaiserstraße 12, Karlsruhe, 76131, Germany\n",
      "177 out of 1396 SE-106 91, Stockholm, Sweden\n",
      "178 out of 1396 Rudder Tower, 401 Joe Routt Blvd, College Station, Texas, 77843-1372, United States\n",
      "179 out of 1396 Private Bag 92019, Auckland, 1142, New Zealand\n",
      "180 out of 1396 1156 High Street, Santa Cruz, California, 95064, United States\n",
      "181 out of 1396 145 Anam-ro, Seongbuk-gu, Seoul, 02841, South Korea\n",
      "182 out of 1396 2 George Street, Brisbane, Queensland, QLD 4000, Australia\n",
      "183 out of 1396 Schlossplatz 4, Erlangen, 91054, Germany\n",
      "184 out of 1396 PO Box 11000, Aalto, 00076, Finland\n",
      "185 out of 1396 Anker Engelunds Vej 1, 2800 Kgs. Lyngby, Denmark\n",
      "186 out of 1396 Postbus 513, Eindhoven, 5600, Netherlands\n",
      "187 out of 1396 PO Box 100, SE-405 30, Gothenburg, Sweden\n",
      "188 out of 1396 46 rue Barrault F-75634 Paris, Cedex 13, France\n",
      "189 out of 1396 GSP-1, Leninskie Gory, Moscow, 119991, Russian Federation\n",
      "190 out of 1396 Schlossplatz 2, 48149 Munster, Germany\n",
      "191 out of 1396 PO Box 39040, Tel Aviv 69978, Israel\n",
      "192 out of 1396 Norwich Research Park, Norwich, Norfolk, NR4 7TJ, United Kingdom\n",
      "193 out of 1396 University Drive, Bruce, Australian Capital Territory, ACT 2617, Australia\n",
      "194 out of 1396 Universitätsstraße 2, Essen, 45141, Germany\n",
      "195 out of 1396 P.O. Box 123, Broadway, New South Wales, NSW 2007, Australia\n",
      "196 out of 1396 1 Jan Smuts Avenue, Braamfontein 2000, Johannesburg, South Africa\n",
      "197 out of 1396 50 Yonsei-ro, Seodaemun-gu, Seoul, 03722, South Korea\n",
      "198 out of 1396 Prinsstraat 13, 2000 Antwerpen, Belgium\n",
      "199 out of 1396 Park Place, Cardiff, CF10 3AT, United Kingdom\n",
      "200 out of 1396 1918 F Street, NW, Washington DC, Washington, 20052, United States\n",
      "201 out of 1396 Bâtiment Géopolis, CH-1015 Lausanne, Switzerland\n",
      "202 out of 1396 College Gate, St. Andrews, Fife, KY16 9AJ, United Kingdom\n",
      "203 out of 1396 Fredrik Bajers Vej 5 P.O. Box 159, DK - 9100 Aalborg, Denmark\n",
      "204 out of 1396 Gr. Via de les Corts Catalanes, 585, Barcelona, 08007, Spain\n",
      "205 out of 1396 PO Box 7800, 5020 Bergen, Norway\n",
      "206 out of 1396 415 South St., Waltham, Massachusetts, 02453, United States\n",
      "207 out of 1396 2500 University Drive. NW, Calgary, Alberta, T2N 1N4, Canada\n",
      "208 out of 1396 Solbjerg Plads 3, DK-2000 Frederiksberg, Denmark\n",
      "209 out of 1396 Nethergate, Dundee, DD1 4HN, United Kingdom\n",
      "210 out of 1396 15 parvis René Descartes, BP 7000 69342, Lyon Cedex 07, France\n",
      "211 out of 1396 Parklands Drive, Southport, Queensland, QLD 4222, Australia\n",
      "212 out of 1396 2500 Campus Road, Honolulu, Hawaii, HI 96822, United States\n",
      "213 out of 1396 Jerusalem, 9190501, Israel\n",
      "214 out of 1396 Schloss Hohenheim 1, 70599 Stuttgart, Germany\n",
      "215 out of 1396 2400 Sixth Street, NW, Washington, District of Columbia, 20059, United States\n",
      "216 out of 1396 West Washington St, Iowa, 52242, United States\n",
      "217 out of 1396 1 James Cook Drive, Townsville City, Queensland, QLD 4811, Australia\n",
      "218 out of 1396 P.O. Box 80200, Jeddah, 21589, Saudi Arabia\n",
      "219 out of 1396 Universitätsstraße 10, Konstanz, 78464, Germany\n",
      "220 out of 1396 SE-100 44, Stockholm, Sweden\n"
     ]
    }
   ],
   "source": [
    "full_address_list, streetAddress_list, addressLocality_list, addressRegion_list, postalCode_list, addressCountry_list  = [], [], [], [], [], []\n",
    "for web in web_address:\n",
    "    page = urlopen(web)\n",
    "    page_html = soup(page, 'html.parser')\n",
    "    location = page_html.findAll('script', {'type':\"application/ld+json\"})\n",
    "    jt = json.loads(location[0].text)\n",
    "    jsonnn_tree = objectpath.Tree(jt)\n",
    "    streetAddress_list.append(list(jsonnn_tree.execute('$..streetAddress'))[0])\n",
    "    addressLocality_list.append(list(jsonnn_tree.execute('$..addressLocality'))[0])\n",
    "    addressRegion_list.append(list(jsonnn_tree.execute('$..addressRegion'))[0])\n",
    "    postalCode_list.append(list(jsonnn_tree.execute('$..postalCode'))[0])\n",
    "    addressCountry_list.append(list(jsonnn_tree.execute('$..addressCountry'))[0])\n",
    "    full_address = page_html.findAll('div', {'class':\"institution-info__contact-detail institution-info__contact-detail--address\"})[0].text.strip()\n",
    "    full_address_list.append(full_address)\n",
    "    print ('{} out of {}'.format(len(full_address_list), len (web_address)), full_address)"
   ]
  },
  {
   "cell_type": "code",
   "execution_count": null,
   "metadata": {
    "scrolled": true
   },
   "outputs": [],
   "source": [
    "df = pd.DataFrame({\n",
    "    'rank' : rank,\n",
    "    'name' : names,\n",
    "    'number_students' : number_students,\n",
    "    'student_staff_ratio' : student_staff_ratio,\n",
    "    'intl_students' : intl_students,\n",
    "    'female_male_ratio' : female_male_ratio,\n",
    "    'overall_score' : overall_score,\n",
    "    'teaching_score' : teaching_score,\n",
    "    'research_score' : research_score,\n",
    "    'citations_score' : citations_score,\n",
    "    'industry_income_score' : industry_income_score,\n",
    "    'international_outlook_score' : international_outlook_score,\n",
    "    'address' : full_address_list, \n",
    "    'street_address' : streetAddress_list,\n",
    "    'locality_address' : addressLocality_list,\n",
    "    'region_address' : addressRegion_list,\n",
    "    'postcode_address' : postalCode_list,\n",
    "    'country_address' : addressCountry_list\n",
    "})\n",
    "df"
   ]
  },
  {
   "cell_type": "code",
   "execution_count": null,
   "metadata": {
    "scrolled": true
   },
   "outputs": [],
   "source": [
    "df['intl_students'] = df['intl_students'].str.replace(pat='%', repl='')\n",
    "df['rank'] = df['rank'].str.replace(pat='\\–\\d*|\\+', repl='', regex=True)\n",
    "df['overall_score'] = df['overall_score'].str.replace(pat='.*\\–', repl='', regex=True)\n",
    "df['number_students'] = df['number_students'].str.replace(pat=',', repl='', regex=True)\n",
    "df = df.replace('n/a*', pd.np.nan, regex=True)\n",
    "df"
   ]
  },
  {
   "cell_type": "code",
   "execution_count": null,
   "metadata": {},
   "outputs": [],
   "source": [
    "df.to_csv('uni_02.csv', encoding='utf-16', index=False)"
   ]
  }
 ],
 "metadata": {
  "kernelspec": {
   "display_name": "Python 3",
   "language": "python",
   "name": "python3"
  },
  "language_info": {
   "codemirror_mode": {
    "name": "ipython",
    "version": 3
   },
   "file_extension": ".py",
   "mimetype": "text/x-python",
   "name": "python",
   "nbconvert_exporter": "python",
   "pygments_lexer": "ipython3",
   "version": "3.7.4"
  }
 },
 "nbformat": 4,
 "nbformat_minor": 2
}
